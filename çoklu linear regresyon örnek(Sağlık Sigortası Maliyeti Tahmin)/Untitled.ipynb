{
 "cells": [
  {
   "cell_type": "code",
   "execution_count": null,
   "id": "8f0d863b-fe85-4170-8704-3b1a55785ca7",
   "metadata": {},
   "outputs": [],
   "source": [
    "#VERİ SETİNİN OKUNMASI"
   ]
  },
  {
   "cell_type": "code",
   "execution_count": 73,
   "id": "143dd556-cf37-4996-a0c8-bafb74446772",
   "metadata": {},
   "outputs": [
    {
     "data": {
      "text/html": [
       "<div>\n",
       "<style scoped>\n",
       "    .dataframe tbody tr th:only-of-type {\n",
       "        vertical-align: middle;\n",
       "    }\n",
       "\n",
       "    .dataframe tbody tr th {\n",
       "        vertical-align: top;\n",
       "    }\n",
       "\n",
       "    .dataframe thead th {\n",
       "        text-align: right;\n",
       "    }\n",
       "</style>\n",
       "<table border=\"1\" class=\"dataframe\">\n",
       "  <thead>\n",
       "    <tr style=\"text-align: right;\">\n",
       "      <th></th>\n",
       "      <th>age</th>\n",
       "      <th>sex</th>\n",
       "      <th>bmi</th>\n",
       "      <th>children</th>\n",
       "      <th>smoker</th>\n",
       "      <th>region</th>\n",
       "      <th>charges</th>\n",
       "    </tr>\n",
       "  </thead>\n",
       "  <tbody>\n",
       "    <tr>\n",
       "      <th>0</th>\n",
       "      <td>19</td>\n",
       "      <td>female</td>\n",
       "      <td>27.900</td>\n",
       "      <td>0</td>\n",
       "      <td>yes</td>\n",
       "      <td>southwest</td>\n",
       "      <td>16884.92400</td>\n",
       "    </tr>\n",
       "    <tr>\n",
       "      <th>1</th>\n",
       "      <td>18</td>\n",
       "      <td>male</td>\n",
       "      <td>33.770</td>\n",
       "      <td>1</td>\n",
       "      <td>no</td>\n",
       "      <td>southeast</td>\n",
       "      <td>1725.55230</td>\n",
       "    </tr>\n",
       "    <tr>\n",
       "      <th>2</th>\n",
       "      <td>28</td>\n",
       "      <td>male</td>\n",
       "      <td>33.000</td>\n",
       "      <td>3</td>\n",
       "      <td>no</td>\n",
       "      <td>southeast</td>\n",
       "      <td>4449.46200</td>\n",
       "    </tr>\n",
       "    <tr>\n",
       "      <th>3</th>\n",
       "      <td>33</td>\n",
       "      <td>male</td>\n",
       "      <td>22.705</td>\n",
       "      <td>0</td>\n",
       "      <td>no</td>\n",
       "      <td>northwest</td>\n",
       "      <td>21984.47061</td>\n",
       "    </tr>\n",
       "    <tr>\n",
       "      <th>4</th>\n",
       "      <td>32</td>\n",
       "      <td>male</td>\n",
       "      <td>28.880</td>\n",
       "      <td>0</td>\n",
       "      <td>no</td>\n",
       "      <td>northwest</td>\n",
       "      <td>3866.85520</td>\n",
       "    </tr>\n",
       "  </tbody>\n",
       "</table>\n",
       "</div>"
      ],
      "text/plain": [
       "   age     sex     bmi  children smoker     region      charges\n",
       "0   19  female  27.900         0    yes  southwest  16884.92400\n",
       "1   18    male  33.770         1     no  southeast   1725.55230\n",
       "2   28    male  33.000         3     no  southeast   4449.46200\n",
       "3   33    male  22.705         0     no  northwest  21984.47061\n",
       "4   32    male  28.880         0     no  northwest   3866.85520"
      ]
     },
     "execution_count": 73,
     "metadata": {},
     "output_type": "execute_result"
    }
   ],
   "source": [
    "data_set=pd.read_csv(\"insurance.csv\")\n",
    "data_set.head()"
   ]
  },
  {
   "cell_type": "code",
   "execution_count": 74,
   "id": "8ba60fea-a4a3-45f3-ad6b-a8d3122f7293",
   "metadata": {},
   "outputs": [
    {
     "name": "stdout",
     "output_type": "stream",
     "text": [
      "      Yaş Medeni_Durum  Vücut_Kitle   Çocuk_Sayısı Sigara_İçme _Durumu  \\\n",
      "0      19       female        27.900             0                 yes   \n",
      "1      18         male        33.770             1                  no   \n",
      "2      28         male        33.000             3                  no   \n",
      "3      33         male        22.705             0                  no   \n",
      "4      32         male        28.880             0                  no   \n",
      "...   ...          ...           ...           ...                 ...   \n",
      "1333   50         male        30.970             3                  no   \n",
      "1334   18       female        31.920             0                  no   \n",
      "1335   18       female        36.850             0                  no   \n",
      "1336   21       female        25.800             0                  no   \n",
      "1337   61       female        29.070             0                 yes   \n",
      "\n",
      "          Bölge      Maliyet  \n",
      "0     southwest  16884.92400  \n",
      "1     southeast   1725.55230  \n",
      "2     southeast   4449.46200  \n",
      "3     northwest  21984.47061  \n",
      "4     northwest   3866.85520  \n",
      "...         ...          ...  \n",
      "1333  northwest  10600.54830  \n",
      "1334  northeast   2205.98080  \n",
      "1335  southeast   1629.83350  \n",
      "1336  southwest   2007.94500  \n",
      "1337  northwest  29141.36030  \n",
      "\n",
      "[1338 rows x 7 columns]\n"
     ]
    }
   ],
   "source": [
    "print(data_set.rename(columns={'age':'Yaş',\n",
    "                     'sex':'Medeni_Durum',\n",
    "                     'bmi':'Vücut_Kitle ',\n",
    "                     'children':'Çocuk_Sayısı',\n",
    "                     'smoker':'Sigara_İçme _Durumu',\n",
    "                     'region':'Bölge'\n",
    "                     ,'charges':'Maliyet'\n",
    "                    },inplace=False))"
   ]
  },
  {
   "cell_type": "code",
   "execution_count": 75,
   "id": "4846352c-9a1f-444c-8eda-30e5a901ce7a",
   "metadata": {},
   "outputs": [
    {
     "data": {
      "text/html": [
       "<div>\n",
       "<style scoped>\n",
       "    .dataframe tbody tr th:only-of-type {\n",
       "        vertical-align: middle;\n",
       "    }\n",
       "\n",
       "    .dataframe tbody tr th {\n",
       "        vertical-align: top;\n",
       "    }\n",
       "\n",
       "    .dataframe thead th {\n",
       "        text-align: right;\n",
       "    }\n",
       "</style>\n",
       "<table border=\"1\" class=\"dataframe\">\n",
       "  <thead>\n",
       "    <tr style=\"text-align: right;\">\n",
       "      <th></th>\n",
       "      <th>age</th>\n",
       "      <th>bmi</th>\n",
       "      <th>children</th>\n",
       "      <th>charges</th>\n",
       "    </tr>\n",
       "  </thead>\n",
       "  <tbody>\n",
       "    <tr>\n",
       "      <th>count</th>\n",
       "      <td>1338.000000</td>\n",
       "      <td>1338.000000</td>\n",
       "      <td>1338.000000</td>\n",
       "      <td>1338.000000</td>\n",
       "    </tr>\n",
       "    <tr>\n",
       "      <th>mean</th>\n",
       "      <td>39.207025</td>\n",
       "      <td>30.663397</td>\n",
       "      <td>1.094918</td>\n",
       "      <td>13270.422265</td>\n",
       "    </tr>\n",
       "    <tr>\n",
       "      <th>std</th>\n",
       "      <td>14.049960</td>\n",
       "      <td>6.098187</td>\n",
       "      <td>1.205493</td>\n",
       "      <td>12110.011237</td>\n",
       "    </tr>\n",
       "    <tr>\n",
       "      <th>min</th>\n",
       "      <td>18.000000</td>\n",
       "      <td>15.960000</td>\n",
       "      <td>0.000000</td>\n",
       "      <td>1121.873900</td>\n",
       "    </tr>\n",
       "    <tr>\n",
       "      <th>25%</th>\n",
       "      <td>27.000000</td>\n",
       "      <td>26.296250</td>\n",
       "      <td>0.000000</td>\n",
       "      <td>4740.287150</td>\n",
       "    </tr>\n",
       "    <tr>\n",
       "      <th>50%</th>\n",
       "      <td>39.000000</td>\n",
       "      <td>30.400000</td>\n",
       "      <td>1.000000</td>\n",
       "      <td>9382.033000</td>\n",
       "    </tr>\n",
       "    <tr>\n",
       "      <th>75%</th>\n",
       "      <td>51.000000</td>\n",
       "      <td>34.693750</td>\n",
       "      <td>2.000000</td>\n",
       "      <td>16639.912515</td>\n",
       "    </tr>\n",
       "    <tr>\n",
       "      <th>max</th>\n",
       "      <td>64.000000</td>\n",
       "      <td>53.130000</td>\n",
       "      <td>5.000000</td>\n",
       "      <td>63770.428010</td>\n",
       "    </tr>\n",
       "  </tbody>\n",
       "</table>\n",
       "</div>"
      ],
      "text/plain": [
       "               age          bmi     children       charges\n",
       "count  1338.000000  1338.000000  1338.000000   1338.000000\n",
       "mean     39.207025    30.663397     1.094918  13270.422265\n",
       "std      14.049960     6.098187     1.205493  12110.011237\n",
       "min      18.000000    15.960000     0.000000   1121.873900\n",
       "25%      27.000000    26.296250     0.000000   4740.287150\n",
       "50%      39.000000    30.400000     1.000000   9382.033000\n",
       "75%      51.000000    34.693750     2.000000  16639.912515\n",
       "max      64.000000    53.130000     5.000000  63770.428010"
      ]
     },
     "execution_count": 75,
     "metadata": {},
     "output_type": "execute_result"
    }
   ],
   "source": [
    "data_set.describe() #veri setine ilişkin bilgiler\n",
    "#kategorik değişkenleri göstermedi"
   ]
  },
  {
   "cell_type": "code",
   "execution_count": 40,
   "id": "ebaec254-2780-4b29-a3f9-ea561e37794c",
   "metadata": {},
   "outputs": [],
   "source": [
    "#VERİ ÖN İŞLEME"
   ]
  },
  {
   "cell_type": "code",
   "execution_count": 76,
   "id": "173a7515-7722-40e0-9fab-a329403e00b4",
   "metadata": {},
   "outputs": [
    {
     "data": {
      "text/plain": [
       "age         0\n",
       "sex         0\n",
       "bmi         0\n",
       "children    0\n",
       "smoker      0\n",
       "region      0\n",
       "charges     0\n",
       "dtype: int64"
      ]
     },
     "execution_count": 76,
     "metadata": {},
     "output_type": "execute_result"
    }
   ],
   "source": [
    "data_set.isnull().sum()#eksik veri varmı bakıyoruz\n",
    "#eksik veri olsaydı silecektik veya verileri doldururuz"
   ]
  },
  {
   "cell_type": "code",
   "execution_count": null,
   "id": "8d29ebed-a48b-4643-bcfb-808c535056d6",
   "metadata": {},
   "outputs": [],
   "source": [
    "#Verilerin sütunlarda dengeli dağılıp dağılmadığını inceliyoruz"
   ]
  },
  {
   "cell_type": "code",
   "execution_count": 77,
   "id": "796d1ab5-baf5-45e2-932f-ca0b8f839b80",
   "metadata": {},
   "outputs": [
    {
     "name": "stdout",
     "output_type": "stream",
     "text": [
      "Yaş:\n",
      " 18    69\n",
      "19    68\n",
      "50    29\n",
      "51    29\n",
      "47    29\n",
      "46    29\n",
      "45    29\n",
      "20    29\n",
      "48    29\n",
      "52    29\n",
      "22    28\n",
      "49    28\n",
      "54    28\n",
      "53    28\n",
      "21    28\n",
      "26    28\n",
      "24    28\n",
      "25    28\n",
      "28    28\n",
      "27    28\n",
      "23    28\n",
      "43    27\n",
      "29    27\n",
      "30    27\n",
      "41    27\n",
      "42    27\n",
      "44    27\n",
      "31    27\n",
      "40    27\n",
      "32    26\n",
      "33    26\n",
      "56    26\n",
      "34    26\n",
      "55    26\n",
      "57    26\n",
      "37    25\n",
      "59    25\n",
      "58    25\n",
      "36    25\n",
      "38    25\n",
      "35    25\n",
      "39    25\n",
      "61    23\n",
      "60    23\n",
      "63    23\n",
      "62    23\n",
      "64    22\n",
      "Name: age, dtype: int64\n",
      "Medeni_Durum:\n",
      " male      676\n",
      "female    662\n",
      "Name: sex, dtype: int64\n",
      "Vücut_Kitle:\n",
      " 32.300    13\n",
      "28.310     9\n",
      "30.495     8\n",
      "30.875     8\n",
      "31.350     8\n",
      "          ..\n",
      "46.200     1\n",
      "23.800     1\n",
      "44.770     1\n",
      "32.120     1\n",
      "30.970     1\n",
      "Name: bmi, Length: 548, dtype: int64\n",
      "Çocuk_Sayısı:\n",
      " 0    574\n",
      "1    324\n",
      "2    240\n",
      "3    157\n",
      "4     25\n",
      "5     18\n",
      "Name: children, dtype: int64\n",
      "Sigara_İçme _Durumu:\n",
      " no     1064\n",
      "yes     274\n",
      "Name: smoker, dtype: int64\n",
      "Bölge:\n",
      " southeast    364\n",
      "southwest    325\n",
      "northwest    325\n",
      "northeast    324\n",
      "Name: region, dtype: int64\n"
     ]
    }
   ],
   "source": [
    "age_statistic=data_set[\"age\"].value_counts()\n",
    "sex_statistic=data_set[\"sex\"].value_counts()\n",
    "bmi_statistic=data_set[\"bmi\"].value_counts()\n",
    "children_statistic=data_set[\"children\"].value_counts()\n",
    "smoker_statistic=data_set[\"smoker\"].value_counts()\n",
    "region_statistic=data_set[\"region\"].value_counts()\n",
    "print(\"Yaş:\\n\",age_statistic)\n",
    "print(\"Medeni_Durum:\\n\",sex_statistic)\n",
    "print(\"Vücut_Kitle:\\n\",bmi_statistic)\n",
    "print(\"Çocuk_Sayısı:\\n\",children_statistic)\n",
    "print(\"Sigara_İçme _Durumu:\\n\",smoker_statistic)\n",
    "print(\"Bölge:\\n\",region_statistic)"
   ]
  },
  {
   "cell_type": "code",
   "execution_count": null,
   "id": "1c2dc23e-b77d-4899-90a9-4e9503da1818",
   "metadata": {},
   "outputs": [],
   "source": [
    " #KATEGORİK VERİLERİ NOMİNAL VERİLERE DÖNÜŞTÜRME"
   ]
  },
  {
   "cell_type": "code",
   "execution_count": 78,
   "id": "19a66522-a48f-49e1-9e2c-0fbf3e964019",
   "metadata": {},
   "outputs": [],
   "source": [
    "sex_types=pd.get_dummies(data_set.sex,prefix='sex')\n",
    "smoker_types=pd.get_dummies(data_set.smoker,prefix='smoker')\n",
    "region_types=pd.get_dummies(data_set.region,prefix='region')"
   ]
  },
  {
   "cell_type": "code",
   "execution_count": 79,
   "id": "22ae4e71-63db-4e16-954e-210f85242c4e",
   "metadata": {},
   "outputs": [
    {
     "data": {
      "text/html": [
       "<div>\n",
       "<style scoped>\n",
       "    .dataframe tbody tr th:only-of-type {\n",
       "        vertical-align: middle;\n",
       "    }\n",
       "\n",
       "    .dataframe tbody tr th {\n",
       "        vertical-align: top;\n",
       "    }\n",
       "\n",
       "    .dataframe thead th {\n",
       "        text-align: right;\n",
       "    }\n",
       "</style>\n",
       "<table border=\"1\" class=\"dataframe\">\n",
       "  <thead>\n",
       "    <tr style=\"text-align: right;\">\n",
       "      <th></th>\n",
       "      <th>age</th>\n",
       "      <th>sex</th>\n",
       "      <th>bmi</th>\n",
       "      <th>children</th>\n",
       "      <th>smoker</th>\n",
       "      <th>region</th>\n",
       "      <th>charges</th>\n",
       "      <th>sex_female</th>\n",
       "      <th>sex_male</th>\n",
       "      <th>smoker_no</th>\n",
       "      <th>smoker_yes</th>\n",
       "      <th>region_northeast</th>\n",
       "      <th>region_northwest</th>\n",
       "      <th>region_southeast</th>\n",
       "      <th>region_southwest</th>\n",
       "    </tr>\n",
       "  </thead>\n",
       "  <tbody>\n",
       "    <tr>\n",
       "      <th>0</th>\n",
       "      <td>19</td>\n",
       "      <td>female</td>\n",
       "      <td>27.900</td>\n",
       "      <td>0</td>\n",
       "      <td>yes</td>\n",
       "      <td>southwest</td>\n",
       "      <td>16884.92400</td>\n",
       "      <td>1</td>\n",
       "      <td>0</td>\n",
       "      <td>0</td>\n",
       "      <td>1</td>\n",
       "      <td>0</td>\n",
       "      <td>0</td>\n",
       "      <td>0</td>\n",
       "      <td>1</td>\n",
       "    </tr>\n",
       "    <tr>\n",
       "      <th>1</th>\n",
       "      <td>18</td>\n",
       "      <td>male</td>\n",
       "      <td>33.770</td>\n",
       "      <td>1</td>\n",
       "      <td>no</td>\n",
       "      <td>southeast</td>\n",
       "      <td>1725.55230</td>\n",
       "      <td>0</td>\n",
       "      <td>1</td>\n",
       "      <td>1</td>\n",
       "      <td>0</td>\n",
       "      <td>0</td>\n",
       "      <td>0</td>\n",
       "      <td>1</td>\n",
       "      <td>0</td>\n",
       "    </tr>\n",
       "    <tr>\n",
       "      <th>2</th>\n",
       "      <td>28</td>\n",
       "      <td>male</td>\n",
       "      <td>33.000</td>\n",
       "      <td>3</td>\n",
       "      <td>no</td>\n",
       "      <td>southeast</td>\n",
       "      <td>4449.46200</td>\n",
       "      <td>0</td>\n",
       "      <td>1</td>\n",
       "      <td>1</td>\n",
       "      <td>0</td>\n",
       "      <td>0</td>\n",
       "      <td>0</td>\n",
       "      <td>1</td>\n",
       "      <td>0</td>\n",
       "    </tr>\n",
       "    <tr>\n",
       "      <th>3</th>\n",
       "      <td>33</td>\n",
       "      <td>male</td>\n",
       "      <td>22.705</td>\n",
       "      <td>0</td>\n",
       "      <td>no</td>\n",
       "      <td>northwest</td>\n",
       "      <td>21984.47061</td>\n",
       "      <td>0</td>\n",
       "      <td>1</td>\n",
       "      <td>1</td>\n",
       "      <td>0</td>\n",
       "      <td>0</td>\n",
       "      <td>1</td>\n",
       "      <td>0</td>\n",
       "      <td>0</td>\n",
       "    </tr>\n",
       "    <tr>\n",
       "      <th>4</th>\n",
       "      <td>32</td>\n",
       "      <td>male</td>\n",
       "      <td>28.880</td>\n",
       "      <td>0</td>\n",
       "      <td>no</td>\n",
       "      <td>northwest</td>\n",
       "      <td>3866.85520</td>\n",
       "      <td>0</td>\n",
       "      <td>1</td>\n",
       "      <td>1</td>\n",
       "      <td>0</td>\n",
       "      <td>0</td>\n",
       "      <td>1</td>\n",
       "      <td>0</td>\n",
       "      <td>0</td>\n",
       "    </tr>\n",
       "  </tbody>\n",
       "</table>\n",
       "</div>"
      ],
      "text/plain": [
       "   age     sex     bmi  children smoker     region      charges  sex_female  \\\n",
       "0   19  female  27.900         0    yes  southwest  16884.92400           1   \n",
       "1   18    male  33.770         1     no  southeast   1725.55230           0   \n",
       "2   28    male  33.000         3     no  southeast   4449.46200           0   \n",
       "3   33    male  22.705         0     no  northwest  21984.47061           0   \n",
       "4   32    male  28.880         0     no  northwest   3866.85520           0   \n",
       "\n",
       "   sex_male  smoker_no  smoker_yes  region_northeast  region_northwest  \\\n",
       "0         0          0           1                 0                 0   \n",
       "1         1          1           0                 0                 0   \n",
       "2         1          1           0                 0                 0   \n",
       "3         1          1           0                 0                 1   \n",
       "4         1          1           0                 0                 1   \n",
       "\n",
       "   region_southeast  region_southwest  \n",
       "0                 0                 1  \n",
       "1                 1                 0  \n",
       "2                 1                 0  \n",
       "3                 0                 0  \n",
       "4                 0                 0  "
      ]
     },
     "execution_count": 79,
     "metadata": {},
     "output_type": "execute_result"
    }
   ],
   "source": [
    "data_set=pd.concat([data_set,sex_types,smoker_types,region_types],axis=1)\n",
    "data_set.head()"
   ]
  },
  {
   "cell_type": "code",
   "execution_count": 80,
   "id": "a9e911b5-6496-4c9e-8f4b-30f9b5939206",
   "metadata": {},
   "outputs": [
    {
     "data": {
      "text/html": [
       "<div>\n",
       "<style scoped>\n",
       "    .dataframe tbody tr th:only-of-type {\n",
       "        vertical-align: middle;\n",
       "    }\n",
       "\n",
       "    .dataframe tbody tr th {\n",
       "        vertical-align: top;\n",
       "    }\n",
       "\n",
       "    .dataframe thead th {\n",
       "        text-align: right;\n",
       "    }\n",
       "</style>\n",
       "<table border=\"1\" class=\"dataframe\">\n",
       "  <thead>\n",
       "    <tr style=\"text-align: right;\">\n",
       "      <th></th>\n",
       "      <th>age</th>\n",
       "      <th>bmi</th>\n",
       "      <th>children</th>\n",
       "      <th>charges</th>\n",
       "      <th>sex_male</th>\n",
       "      <th>smoker_yes</th>\n",
       "      <th>region_northeast</th>\n",
       "      <th>region_northwest</th>\n",
       "      <th>region_southeast</th>\n",
       "      <th>region_southwest</th>\n",
       "    </tr>\n",
       "  </thead>\n",
       "  <tbody>\n",
       "    <tr>\n",
       "      <th>0</th>\n",
       "      <td>19</td>\n",
       "      <td>27.900</td>\n",
       "      <td>0</td>\n",
       "      <td>16884.92400</td>\n",
       "      <td>0</td>\n",
       "      <td>1</td>\n",
       "      <td>0</td>\n",
       "      <td>0</td>\n",
       "      <td>0</td>\n",
       "      <td>1</td>\n",
       "    </tr>\n",
       "    <tr>\n",
       "      <th>1</th>\n",
       "      <td>18</td>\n",
       "      <td>33.770</td>\n",
       "      <td>1</td>\n",
       "      <td>1725.55230</td>\n",
       "      <td>1</td>\n",
       "      <td>0</td>\n",
       "      <td>0</td>\n",
       "      <td>0</td>\n",
       "      <td>1</td>\n",
       "      <td>0</td>\n",
       "    </tr>\n",
       "    <tr>\n",
       "      <th>2</th>\n",
       "      <td>28</td>\n",
       "      <td>33.000</td>\n",
       "      <td>3</td>\n",
       "      <td>4449.46200</td>\n",
       "      <td>1</td>\n",
       "      <td>0</td>\n",
       "      <td>0</td>\n",
       "      <td>0</td>\n",
       "      <td>1</td>\n",
       "      <td>0</td>\n",
       "    </tr>\n",
       "    <tr>\n",
       "      <th>3</th>\n",
       "      <td>33</td>\n",
       "      <td>22.705</td>\n",
       "      <td>0</td>\n",
       "      <td>21984.47061</td>\n",
       "      <td>1</td>\n",
       "      <td>0</td>\n",
       "      <td>0</td>\n",
       "      <td>1</td>\n",
       "      <td>0</td>\n",
       "      <td>0</td>\n",
       "    </tr>\n",
       "    <tr>\n",
       "      <th>4</th>\n",
       "      <td>32</td>\n",
       "      <td>28.880</td>\n",
       "      <td>0</td>\n",
       "      <td>3866.85520</td>\n",
       "      <td>1</td>\n",
       "      <td>0</td>\n",
       "      <td>0</td>\n",
       "      <td>1</td>\n",
       "      <td>0</td>\n",
       "      <td>0</td>\n",
       "    </tr>\n",
       "  </tbody>\n",
       "</table>\n",
       "</div>"
      ],
      "text/plain": [
       "   age     bmi  children      charges  sex_male  smoker_yes  region_northeast  \\\n",
       "0   19  27.900         0  16884.92400         0           1                 0   \n",
       "1   18  33.770         1   1725.55230         1           0                 0   \n",
       "2   28  33.000         3   4449.46200         1           0                 0   \n",
       "3   33  22.705         0  21984.47061         1           0                 0   \n",
       "4   32  28.880         0   3866.85520         1           0                 0   \n",
       "\n",
       "   region_northwest  region_southeast  region_southwest  \n",
       "0                 0                 0                 1  \n",
       "1                 0                 1                 0  \n",
       "2                 0                 1                 0  \n",
       "3                 1                 0                 0  \n",
       "4                 1                 0                 0  "
      ]
     },
     "execution_count": 80,
     "metadata": {},
     "output_type": "execute_result"
    }
   ],
   "source": [
    "data_set.drop(['sex','smoker','region','sex_female','smoker_no'],axis=1,inplace=True)\n",
    "data_set.head()"
   ]
  },
  {
   "cell_type": "code",
   "execution_count": null,
   "id": "463c8128-839a-4b89-bb81-94610f8791a8",
   "metadata": {},
   "outputs": [],
   "source": [
    "#X VE YE DEĞİŞKENLERİNE ATAMA"
   ]
  },
  {
   "cell_type": "code",
   "execution_count": 81,
   "id": "a368b16d-dc32-44bb-9f47-42c4f0a433cc",
   "metadata": {},
   "outputs": [],
   "source": [
    "y=data_set[\"charges\"]\n",
    "data_set.drop([\"charges\"],axis=1,inplace=True)\n",
    "X=data_set"
   ]
  },
  {
   "cell_type": "code",
   "execution_count": 84,
   "id": "0a5a0593-5b42-4c5d-95d0-5c073f21c27c",
   "metadata": {},
   "outputs": [
    {
     "data": {
      "text/html": [
       "<div>\n",
       "<style scoped>\n",
       "    .dataframe tbody tr th:only-of-type {\n",
       "        vertical-align: middle;\n",
       "    }\n",
       "\n",
       "    .dataframe tbody tr th {\n",
       "        vertical-align: top;\n",
       "    }\n",
       "\n",
       "    .dataframe thead th {\n",
       "        text-align: right;\n",
       "    }\n",
       "</style>\n",
       "<table border=\"1\" class=\"dataframe\">\n",
       "  <thead>\n",
       "    <tr style=\"text-align: right;\">\n",
       "      <th></th>\n",
       "      <th>age</th>\n",
       "      <th>bmi</th>\n",
       "      <th>children</th>\n",
       "      <th>sex_male</th>\n",
       "      <th>smoker_yes</th>\n",
       "      <th>region_northeast</th>\n",
       "      <th>region_northwest</th>\n",
       "      <th>region_southeast</th>\n",
       "      <th>region_southwest</th>\n",
       "    </tr>\n",
       "  </thead>\n",
       "  <tbody>\n",
       "    <tr>\n",
       "      <th>0</th>\n",
       "      <td>19</td>\n",
       "      <td>27.900</td>\n",
       "      <td>0</td>\n",
       "      <td>0</td>\n",
       "      <td>1</td>\n",
       "      <td>0</td>\n",
       "      <td>0</td>\n",
       "      <td>0</td>\n",
       "      <td>1</td>\n",
       "    </tr>\n",
       "    <tr>\n",
       "      <th>1</th>\n",
       "      <td>18</td>\n",
       "      <td>33.770</td>\n",
       "      <td>1</td>\n",
       "      <td>1</td>\n",
       "      <td>0</td>\n",
       "      <td>0</td>\n",
       "      <td>0</td>\n",
       "      <td>1</td>\n",
       "      <td>0</td>\n",
       "    </tr>\n",
       "    <tr>\n",
       "      <th>2</th>\n",
       "      <td>28</td>\n",
       "      <td>33.000</td>\n",
       "      <td>3</td>\n",
       "      <td>1</td>\n",
       "      <td>0</td>\n",
       "      <td>0</td>\n",
       "      <td>0</td>\n",
       "      <td>1</td>\n",
       "      <td>0</td>\n",
       "    </tr>\n",
       "    <tr>\n",
       "      <th>3</th>\n",
       "      <td>33</td>\n",
       "      <td>22.705</td>\n",
       "      <td>0</td>\n",
       "      <td>1</td>\n",
       "      <td>0</td>\n",
       "      <td>0</td>\n",
       "      <td>1</td>\n",
       "      <td>0</td>\n",
       "      <td>0</td>\n",
       "    </tr>\n",
       "    <tr>\n",
       "      <th>4</th>\n",
       "      <td>32</td>\n",
       "      <td>28.880</td>\n",
       "      <td>0</td>\n",
       "      <td>1</td>\n",
       "      <td>0</td>\n",
       "      <td>0</td>\n",
       "      <td>1</td>\n",
       "      <td>0</td>\n",
       "      <td>0</td>\n",
       "    </tr>\n",
       "  </tbody>\n",
       "</table>\n",
       "</div>"
      ],
      "text/plain": [
       "   age     bmi  children  sex_male  smoker_yes  region_northeast  \\\n",
       "0   19  27.900         0         0           1                 0   \n",
       "1   18  33.770         1         1           0                 0   \n",
       "2   28  33.000         3         1           0                 0   \n",
       "3   33  22.705         0         1           0                 0   \n",
       "4   32  28.880         0         1           0                 0   \n",
       "\n",
       "   region_northwest  region_southeast  region_southwest  \n",
       "0                 0                 0                 1  \n",
       "1                 0                 1                 0  \n",
       "2                 0                 1                 0  \n",
       "3                 1                 0                 0  \n",
       "4                 1                 0                 0  "
      ]
     },
     "execution_count": 84,
     "metadata": {},
     "output_type": "execute_result"
    }
   ],
   "source": [
    "X.head()#bağımsız değişkenler"
   ]
  },
  {
   "cell_type": "code",
   "execution_count": 85,
   "id": "c35458dd-dd3b-4895-82f5-166431270b76",
   "metadata": {},
   "outputs": [
    {
     "data": {
      "text/plain": [
       "0    16884.92400\n",
       "1     1725.55230\n",
       "2     4449.46200\n",
       "3    21984.47061\n",
       "4     3866.85520\n",
       "Name: charges, dtype: float64"
      ]
     },
     "execution_count": 85,
     "metadata": {},
     "output_type": "execute_result"
    }
   ],
   "source": [
    "y.head()#bağımlı değişken"
   ]
  },
  {
   "cell_type": "code",
   "execution_count": 86,
   "id": "cf77b578-f061-4318-858a-811ecb3c511d",
   "metadata": {},
   "outputs": [],
   "source": [
    "X_train,X_test,y_train,y_test=train_test_split(X,y,test_size=0.25,random_state=46)#verileri eğitim ve test için ayırıyoruz"
   ]
  },
  {
   "cell_type": "code",
   "execution_count": null,
   "id": "7bc5ff87-afcd-4b29-b751-b2fb7b400870",
   "metadata": {},
   "outputs": [],
   "source": [
    "#VERİ SETİNDE NORMALİZASYON İŞLEMİ YAPIYORUZ BURADAKİ AMAÇ VERİ DAHA DÜŞÜK BİR SKALADA TUTMAYA ÇALIŞIYORUZ DEĞERLER BU ŞEKİLDE BİRBİRİNE YAKINSIYOR VE MODEL DAHA DOĞRU ÇALIŞIYOR"
   ]
  },
  {
   "cell_type": "code",
   "execution_count": 87,
   "id": "dc4d0c99-94b8-44d1-b902-7577d37018d2",
   "metadata": {},
   "outputs": [],
   "source": [
    "scaler=StandardScaler()\n",
    "X_train=scaler.fit_transform(X_train)\n",
    "x_test=scaler.fit_transform(X_test)"
   ]
  },
  {
   "cell_type": "code",
   "execution_count": null,
   "id": "9991319e-d295-42e6-9db7-ff1072cfd615",
   "metadata": {},
   "outputs": [],
   "source": [
    "#MAKİNE ÖĞRENMESİ VE MODEL PERFORMANSI"
   ]
  },
  {
   "cell_type": "code",
   "execution_count": null,
   "id": "9f5555cf-b34e-456f-9ef2-ce774920708a",
   "metadata": {},
   "outputs": [],
   "source": [
    "#KARAR AĞACI REGRESYON"
   ]
  },
  {
   "cell_type": "code",
   "execution_count": 113,
   "id": "f5638f0b-6cc2-426c-b0ce-9acdb495504c",
   "metadata": {},
   "outputs": [
    {
     "name": "stderr",
     "output_type": "stream",
     "text": [
      "C:\\Anaconda\\anaconda3\\lib\\site-packages\\sklearn\\base.py:443: UserWarning: X has feature names, but DecisionTreeRegressor was fitted without feature names\n",
      "  warnings.warn(\n"
     ]
    }
   ],
   "source": [
    "tree_regression=DecisionTreeRegressor(random_state=42,max_depth=2)\n",
    "tree_regression=tree_regression.fit(X_train,y_train)\n",
    "tahmın_tree_regression=tree_regression.predict(X_test)"
   ]
  },
  {
   "cell_type": "code",
   "execution_count": null,
   "id": "b12c0c9a-90fe-4f6f-a7e8-2b16130c29a5",
   "metadata": {},
   "outputs": [],
   "source": [
    "#RANDOM FORREST REGRESYON"
   ]
  },
  {
   "cell_type": "code",
   "execution_count": 114,
   "id": "0b4702e7-b4fe-4cee-8f92-7bed39e6d209",
   "metadata": {},
   "outputs": [
    {
     "name": "stderr",
     "output_type": "stream",
     "text": [
      "C:\\Anaconda\\anaconda3\\lib\\site-packages\\sklearn\\base.py:443: UserWarning: X has feature names, but RandomForestRegressor was fitted without feature names\n",
      "  warnings.warn(\n"
     ]
    }
   ],
   "source": [
    "random_regression=RandomForestRegressor(n_estimators=100,max_depth=4,random_state=42)\n",
    "random_regression.fit(X_train,y_train)\n",
    "tahmın_random_regression=random_regression.predict(X_test)"
   ]
  },
  {
   "cell_type": "code",
   "execution_count": null,
   "id": "2083f8bb-30e5-4800-b512-03449d6e377b",
   "metadata": {},
   "outputs": [],
   "source": [
    "#lASSO REGRESYON"
   ]
  },
  {
   "cell_type": "code",
   "execution_count": 115,
   "id": "bfc82e79-2fef-412f-85be-3d653641be66",
   "metadata": {},
   "outputs": [
    {
     "name": "stderr",
     "output_type": "stream",
     "text": [
      "C:\\Anaconda\\anaconda3\\lib\\site-packages\\sklearn\\base.py:443: UserWarning: X has feature names, but Lasso was fitted without feature names\n",
      "  warnings.warn(\n"
     ]
    }
   ],
   "source": [
    "lassoReg=Lasso(alpha=2)\n",
    "lassoReg.fit(X_train,y_train)\n",
    "tahmin_lasso=lassoReg.predict(X_test)"
   ]
  },
  {
   "cell_type": "code",
   "execution_count": null,
   "id": "a9b901d7-cd27-4ea8-b936-daa45ca6f786",
   "metadata": {},
   "outputs": [],
   "source": [
    "#ELASTİC REGRESYON"
   ]
  },
  {
   "cell_type": "code",
   "execution_count": 116,
   "id": "97d7255d-63f2-43a0-8103-b8303e192499",
   "metadata": {},
   "outputs": [
    {
     "name": "stderr",
     "output_type": "stream",
     "text": [
      "C:\\Anaconda\\anaconda3\\lib\\site-packages\\sklearn\\base.py:443: UserWarning: X has feature names, but ElasticNet was fitted without feature names\n",
      "  warnings.warn(\n"
     ]
    }
   ],
   "source": [
    "elastic_reg=ElasticNet(random_state=0)\n",
    "elastic_reg.fit(X_train,y_train)\n",
    "tahmin_elastic=elastic_reg.predict(X_test)"
   ]
  },
  {
   "cell_type": "code",
   "execution_count": null,
   "id": "aeccf173-1202-4409-a9fe-316cb1f02aa8",
   "metadata": {},
   "outputs": [],
   "source": [
    "#RIDGE REGRESYON"
   ]
  },
  {
   "cell_type": "code",
   "execution_count": 117,
   "id": "52bbe110-aadd-4e28-b987-06e107aebb5f",
   "metadata": {},
   "outputs": [
    {
     "name": "stderr",
     "output_type": "stream",
     "text": [
      "C:\\Anaconda\\anaconda3\\lib\\site-packages\\sklearn\\base.py:443: UserWarning: X has feature names, but Ridge was fitted without feature names\n",
      "  warnings.warn(\n"
     ]
    }
   ],
   "source": [
    "ridge_reg=Ridge()\n",
    "ridge_reg.fit(X_train,y_train)\n",
    "tahmin_ridge=ridge_reg.predict(X_test)"
   ]
  },
  {
   "cell_type": "code",
   "execution_count": 118,
   "id": "526f88e1-f931-4cfc-982f-693f8f7c7e67",
   "metadata": {},
   "outputs": [],
   "source": [
    "predicts=[tahmın_tree_regression,tahmın_random_regression,tahmin_lasso,tahmin_elastic,tahmin_ridge]\n",
    "algoritma_names=[\"Karar Ağacı Regresyon\",\"Random Forrest Regresyon\",\"Lasso Regresyon\",\"Elastic Regresyon\",\"Ridge Regresyon\"]"
   ]
  },
  {
   "cell_type": "code",
   "execution_count": null,
   "id": "31058cc9-434d-411e-8a07-123e25911971",
   "metadata": {},
   "outputs": [],
   "source": [
    "#Sonuçları Hesaplama Fonksiyonu"
   ]
  },
  {
   "cell_type": "code",
   "execution_count": 119,
   "id": "f6edbcd4-d71c-4282-a312-015da8089c57",
   "metadata": {},
   "outputs": [],
   "source": [
    "def performance_calculate(predict):\n",
    "    mae=mean_absolute_error(y_test,predict)\n",
    "    mse=mean_squared_error(y_test,predict)\n",
    "    rmse=np.sqrt(mse)\n",
    "    r2=r2_score(y_test,predict)\n",
    "    data=[mae,mse,rmse,r2]\n",
    "    return data"
   ]
  },
  {
   "cell_type": "code",
   "execution_count": 120,
   "id": "bfd40722-344b-40ab-92f5-36f2dee3a108",
   "metadata": {},
   "outputs": [],
   "source": [
    "seriler=[]\n",
    "metrics=[\"MAE\",\"MSE\",\"RMSE\",\"R2\"]\n",
    "for i in predicts:\n",
    "    data=performance_calculate(i)\n",
    "    seriler.append(data)\n",
    "    "
   ]
  },
  {
   "cell_type": "code",
   "execution_count": 121,
   "id": "7e522b19-5bce-4a47-af4a-8b27cdbfa448",
   "metadata": {},
   "outputs": [],
   "source": [
    "df=pd.DataFrame(data=seriler,index=algoritma_names,columns=metrics)\n",
    "pd.set_option(\"display.colheader_justify\",\"center\")#kolon isimlerini ortalıyoruz"
   ]
  },
  {
   "cell_type": "code",
   "execution_count": 122,
   "id": "66551d67-9397-477f-9f42-2118975d1693",
   "metadata": {},
   "outputs": [
    {
     "data": {
      "text/html": [
       "<div>\n",
       "<style scoped>\n",
       "    .dataframe tbody tr th:only-of-type {\n",
       "        vertical-align: middle;\n",
       "    }\n",
       "\n",
       "    .dataframe tbody tr th {\n",
       "        vertical-align: top;\n",
       "    }\n",
       "\n",
       "    .dataframe thead th {\n",
       "        text-align: right;\n",
       "    }\n",
       "</style>\n",
       "<table border=\"1\" class=\"dataframe\">\n",
       "  <thead>\n",
       "    <tr style=\"text-align: center;\">\n",
       "      <th></th>\n",
       "      <th>MAE</th>\n",
       "      <th>MSE</th>\n",
       "      <th>RMSE</th>\n",
       "      <th>R2</th>\n",
       "    </tr>\n",
       "  </thead>\n",
       "  <tbody>\n",
       "    <tr>\n",
       "      <th>Karar Ağacı Regresyon</th>\n",
       "      <td>7685.696954</td>\n",
       "      <td>9.750841e+07</td>\n",
       "      <td>9874.634732</td>\n",
       "      <td>0.281789</td>\n",
       "    </tr>\n",
       "    <tr>\n",
       "      <th>Random Forrest Regresyon</th>\n",
       "      <td>12957.553201</td>\n",
       "      <td>2.510588e+08</td>\n",
       "      <td>15844.833726</td>\n",
       "      <td>-0.849207</td>\n",
       "    </tr>\n",
       "    <tr>\n",
       "      <th>Lasso Regresyon</th>\n",
       "      <td>205880.379548</td>\n",
       "      <td>4.488779e+10</td>\n",
       "      <td>211867.396407</td>\n",
       "      <td>-329.627122</td>\n",
       "    </tr>\n",
       "    <tr>\n",
       "      <th>Elastic Regresyon</th>\n",
       "      <td>141771.438849</td>\n",
       "      <td>2.122741e+10</td>\n",
       "      <td>145696.307297</td>\n",
       "      <td>-155.353392</td>\n",
       "    </tr>\n",
       "    <tr>\n",
       "      <th>Ridge Regresyon</th>\n",
       "      <td>205740.044973</td>\n",
       "      <td>4.482759e+10</td>\n",
       "      <td>211725.277171</td>\n",
       "      <td>-329.183706</td>\n",
       "    </tr>\n",
       "  </tbody>\n",
       "</table>\n",
       "</div>"
      ],
      "text/plain": [
       "                               MAE            MSE          RMSE       \\\n",
       "Karar Ağacı Regresyon       7685.696954  9.750841e+07    9874.634732   \n",
       "Random Forrest Regresyon   12957.553201  2.510588e+08   15844.833726   \n",
       "Lasso Regresyon           205880.379548  4.488779e+10  211867.396407   \n",
       "Elastic Regresyon         141771.438849  2.122741e+10  145696.307297   \n",
       "Ridge Regresyon           205740.044973  4.482759e+10  211725.277171   \n",
       "\n",
       "                              R2      \n",
       "Karar Ağacı Regresyon       0.281789  \n",
       "Random Forrest Regresyon   -0.849207  \n",
       "Lasso Regresyon          -329.627122  \n",
       "Elastic Regresyon        -155.353392  \n",
       "Ridge Regresyon          -329.183706  "
      ]
     },
     "execution_count": 122,
     "metadata": {},
     "output_type": "execute_result"
    }
   ],
   "source": [
    "df"
   ]
  },
  {
   "cell_type": "code",
   "execution_count": 125,
   "id": "a25efb36-b02e-4b99-b602-68e93fb4f24a",
   "metadata": {},
   "outputs": [
    {
     "data": {
      "text/plain": [
       "array([55698.89306186])"
      ]
     },
     "execution_count": 125,
     "metadata": {},
     "output_type": "execute_result"
    }
   ],
   "source": [
    "random_regression=RandomForestRegressor(n_estimators=100,max_depth=4,random_state=42)\n",
    "random_regression.fit(X_train,y_train)\n",
    "yeni_veri=np.array([[19,27.900,0,0,1,0,0,0,1]])\n",
    "tahmın_random_regression=random_regression.predict(yeni_veri)\n",
    "tahmın_random_regression"
   ]
  },
  {
   "cell_type": "code",
   "execution_count": 125,
   "id": "1eccae81-9626-4001-a388-ec2ed7e73c29",
   "metadata": {},
   "outputs": [
    {
     "data": {
      "text/plain": [
       "array([55698.89306186])"
      ]
     },
     "execution_count": 125,
     "metadata": {},
     "output_type": "execute_result"
    }
   ],
   "source": [
    "random_regression=RandomForestRegressor(n_estimators=100,max_depth=4,random_state=42)\n",
    "random_regression.fit(X_train,y_train)\n",
    "yeni_veri=np.array([[19,27.900,0,0,1,0,0,0,1]])\n",
    "tahmın_random_regression=random_regression.predict(yeni_veri)\n",
    "tahmın_random_regression"
   ]
  },
  {
   "cell_type": "code",
   "execution_count": null,
   "id": "d3e94a04-5472-4885-a4b4-1b23e8b909cd",
   "metadata": {},
   "outputs": [],
   "source": []
  }
 ],
 "metadata": {
  "kernelspec": {
   "display_name": "Python 3 (ipykernel)",
   "language": "python",
   "name": "python3"
  },
  "language_info": {
   "codemirror_mode": {
    "name": "ipython",
    "version": 3
   },
   "file_extension": ".py",
   "mimetype": "text/x-python",
   "name": "python",
   "nbconvert_exporter": "python",
   "pygments_lexer": "ipython3",
   "version": "3.9.16"
  }
 },
 "nbformat": 4,
 "nbformat_minor": 5
}
